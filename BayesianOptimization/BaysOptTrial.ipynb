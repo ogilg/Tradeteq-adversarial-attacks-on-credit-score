{
 "cells": [
  {
   "cell_type": "code",
   "execution_count": null,
   "outputs": [],
   "source": [],
   "metadata": {
    "collapsed": false,
    "pycharm": {
     "name": "#%%\n"
    }
   }
  },
  {
   "cell_type": "markdown",
   "source": [
    "Experimenting with Bayesian optimisation to produce adversarial examples.\n"
   ],
   "metadata": {
    "collapsed": false
   }
  },
  {
   "cell_type": "markdown",
   "source": [
    "References:\n",
    "- General guide to bayesian optimization:\n",
    "    https://distill.pub/2020/bayesian-optimization/\n",
    "- Paper on using bayesian optimization in hard label settings:\n",
    "https://arxiv.org/pdf/2007.07210.pdf\n",
    "- Another paper with a different objective function that could be used:\n",
    "https://arxiv.org/abs/1807.04457"
   ],
   "metadata": {
    "collapsed": false
   }
  },
  {
   "cell_type": "markdown",
   "source": [
    "Things to consider:\n",
    "- Bayesian optimisation performs best on problems with a low number of dimensions (eg under 20) - our problem has on the scale of ~100 dimensions, which is still significantly less than image recognition problems. Other techniques (dimensional upsampling) can be used to use bayesian optimization on high dimension problems - may or may not be necessary here\n",
    "- Search space needs to be defined - initially take mins/max of training data for each field? This will later be refined (eg changing derived fields along with postcode)\n",
    "- Initial samples from which adversarial examples are to be generated - just take failed companies from the test data?\n",
    "- skopt includes callbacks - monitor process of the optimisation/terminate early when we find an adversarial example."
   ],
   "metadata": {
    "collapsed": false
   }
  },
  {
   "cell_type": "markdown",
   "source": [
    "Scikit-optimize: library for optimization, including functions for Bayesian optimization."
   ],
   "metadata": {
    "collapsed": false
   }
  },
  {
   "cell_type": "code",
   "execution_count": null,
   "outputs": [],
   "source": [
    "import skopt\n",
    "from skopt.plots import plot_convergence\n",
    "import os\n",
    "import pickle\n",
    "import pandas as pd\n",
    "import numpy as np"
   ],
   "metadata": {
    "collapsed": false,
    "pycharm": {
     "name": "#%%\n"
    }
   }
  },
  {
   "cell_type": "markdown",
   "source": [
    "Step 1: defining search space.\n",
    "Initially do so by taking min/max for each field in test data."
   ],
   "metadata": {
    "collapsed": false
   }
  },
  {
   "cell_type": "code",
   "execution_count": null,
   "outputs": [],
   "source": [
    "#Load in test data\n",
    "data_dir = os.getcwd()\n",
    "with open(os.path.join(data_dir, \"Processing\", r\"train_preproc.p\"), 'rb') as data_file:\n",
    "    train_data = pickle.load(data_file)\n",
    "X_train, y_train = train_data\n",
    "# forgot in preprocessing: convert from bool to int\n",
    "X_train['hasGNotice'] = X_train['hasGNotice'].apply(int)"
   ],
   "metadata": {
    "collapsed": false,
    "pycharm": {
     "name": "#%%\n"
    }
   }
  },
  {
   "cell_type": "code",
   "execution_count": null,
   "outputs": [],
   "source": [
    "min_max = pd.DataFrame(index=[\"min\", \"max\"], columns=X_train.columns)\n",
    "\n",
    "for column in X_train.columns:\n",
    "    min_max[column][\"max\"] = X_train[column].max(axis=0)\n",
    "    min_max[column][\"min\"] = X_train[column].min(axis=0)\n",
    "\n",
    "\n",
    "pd.set_option(\"display.max_rows\", 345)"
   ],
   "metadata": {
    "collapsed": false,
    "pycharm": {
     "name": "#%%\n"
    }
   }
  },
  {
   "cell_type": "code",
   "execution_count": null,
   "outputs": [],
   "source": [
    "#load in model to attack\n",
    "model = pickle.load(open(os.path.join(\"fitted_models\", \"xg_0.927\"), \"rb\"))"
   ],
   "metadata": {
    "collapsed": false,
    "pycharm": {
     "name": "#%%\n"
    }
   }
  },
  {
   "cell_type": "code",
   "execution_count": null,
   "outputs": [],
   "source": [
    "# Need to get search space from min_max array\n",
    "search_space = list(map(tuple, min_max.transpose().to_records(index=False)))"
   ],
   "metadata": {
    "collapsed": false,
    "pycharm": {
     "name": "#%%\n"
    }
   }
  },
  {
   "cell_type": "code",
   "execution_count": null,
   "outputs": [],
   "source": [
    "# weight some features differently in distance function\n",
    "weighting_vector = np.array([1/(col.mean()+0.01) for col in [X_train[col_name] for col_name in X_train.columns]])"
   ],
   "metadata": {
    "collapsed": false,
    "pycharm": {
     "name": "#%%\n"
    }
   }
  },
  {
   "cell_type": "code",
   "execution_count": null,
   "outputs": [],
   "source": [
    "def build_df(X):\n",
    "    return pd.DataFrame(data=[X], columns=X_train.columns)\n",
    "\n",
    "def get_arr(X):\n",
    "    return X.values[0]"
   ],
   "metadata": {
    "collapsed": false,
    "pycharm": {
     "name": "#%%\n"
    }
   }
  },
  {
   "cell_type": "code",
   "execution_count": null,
   "outputs": [],
   "source": [
    "# TODO: standardise all features so that this is just absolute distance\n",
    "def distance_function(X, company, weighting_vector):\n",
    "    d = abs(X-company)\n",
    "    return (d @ weighting_vector)//1000"
   ],
   "metadata": {
    "collapsed": false,
    "pycharm": {
     "name": "#%%\n"
    }
   }
  },
  {
   "cell_type": "code",
   "execution_count": null,
   "outputs": [],
   "source": [
    "\"\"\" ideas:\n",
    "1) constrain search space to [ex - delta, ex + delta] either manually or by specifying the search space\n",
    "Have the objective function just return the failed probability, and optimise it until it is small\n",
    "2) add reasonable distance function to objective\n",
    "\n",
    "\n",
    "Model wrapper:\n",
    " - find postcode fields from postcode\n",
    " - round boolean fields\n",
    "\n",
    "\"\"\"\n",
    "def compute_objective(X, true_company):\n",
    "    X_df = build_df(X)\n",
    "    delta = distance_function(X, get_arr(true_company), weighting_vector)\n",
    "    failed_prob = model.predict_proba(X_df)[0,1]\n",
    "    print(\"delta: \", delta)\n",
    "    obj = failed_prob * (delta + 0.5)\n",
    "    print(\"objective: \", obj)\n",
    "    if model.predict(X_df)[0] == 0:\n",
    "        print(\"model successfully fooled into thinking company is safe\")\n",
    "        print(\"probability of failing: %s\" % failed_prob)\n",
    "        return -1\n",
    "\n",
    "    print(\"model not tricked\")\n",
    "    print(\"probability of failing: %s\" % failed_prob)\n",
    "    print()\n",
    "    return obj"
   ],
   "metadata": {
    "collapsed": false,
    "pycharm": {
     "name": "#%%\n"
    }
   }
  },
  {
   "cell_type": "code",
   "execution_count": null,
   "outputs": [],
   "source": [
    "class FinishedCallBack(skopt.callbacks.EarlyStopper):\n",
    "    def __call__(self, result):\n",
    "      \"\"\"\n",
    "      Messy code\n",
    "      Parameters\n",
    "      ----------\n",
    "      result : `OptimizeResult`, scipy object\n",
    "          The optimization as a OptimizeResult object.\n",
    "      \"\"\"\n",
    "      return self._criterion(result)\n",
    "    def _criterion(self, result):\n",
    "        print(result.fun)\n",
    "        if(result.fun == -1):\n",
    "            print(\"I should stop now\")\n",
    "        return (result.fun == -1)"
   ],
   "metadata": {
    "collapsed": false,
    "pycharm": {
     "name": "#%%\n"
    }
   }
  },
  {
   "cell_type": "code",
   "execution_count": null,
   "outputs": [],
   "source": [
    "failed_companies = X_train.loc[y_train == 1]"
   ],
   "metadata": {
    "collapsed": false,
    "pycharm": {
     "name": "#%%\n"
    }
   }
  },
  {
   "cell_type": "markdown",
   "source": [
    " ##### Actual Bayesian optimization:"
   ],
   "metadata": {
    "collapsed": false
   }
  },
  {
   "cell_type": "code",
   "execution_count": null,
   "outputs": [],
   "source": [
    "starting_example = failed_companies.iloc[:1]\n",
    "x0 = list(get_arr(starting_example))\n",
    "def objective(X):\n",
    "    return compute_objective(X, true_company=starting_example)\n",
    "\n",
    "# sometimes gets error here - keep rerunning and it will work after a while.\n",
    "cb = FinishedCallBack()\n",
    "res = skopt.gp_minimize(objective, search_space, x0 = x0, y0 = objective(x0), callback=cb)\n",
    "plot_convergence(res)\n",
    "minimum = res.x\n"
   ],
   "metadata": {
    "collapsed": false,
    "pycharm": {
     "name": "#%%\n"
    }
   }
  },
  {
   "cell_type": "code",
   "execution_count": 1,
   "outputs": [
    {
     "ename": "NameError",
     "evalue": "name 'distance_function' is not defined",
     "output_type": "error",
     "traceback": [
      "\u001B[1;31m---------------------------------------------------------------------------\u001B[0m",
      "\u001B[1;31mNameError\u001B[0m                                 Traceback (most recent call last)",
      "\u001B[1;32m<ipython-input-1-2da56bb4e43f>\u001B[0m in \u001B[0;36m<module>\u001B[1;34m\u001B[0m\n\u001B[0;32m      1\u001B[0m \u001B[1;31m# Check the ditance to the original example\u001B[0m\u001B[1;33m\u001B[0m\u001B[1;33m\u001B[0m\u001B[0m\n\u001B[1;32m----> 2\u001B[1;33m \u001B[0mdistance_function\u001B[0m\u001B[1;33m(\u001B[0m\u001B[0mminimum\u001B[0m\u001B[1;33m,\u001B[0m \u001B[0mget_arr\u001B[0m\u001B[1;33m(\u001B[0m\u001B[0mstarting_example\u001B[0m\u001B[1;33m)\u001B[0m\u001B[1;33m,\u001B[0m \u001B[0mweighting_vector\u001B[0m\u001B[1;33m)\u001B[0m\u001B[1;33m\u001B[0m\u001B[0m\n\u001B[0m\u001B[0;32m      3\u001B[0m \u001B[1;33m\u001B[0m\u001B[0m\n\u001B[0;32m      4\u001B[0m \u001B[1;33m\u001B[0m\u001B[0m\n\u001B[0;32m      5\u001B[0m \u001B[1;33m\u001B[0m\u001B[0m\n",
      "\u001B[1;31mNameError\u001B[0m: name 'distance_function' is not defined"
     ]
    }
   ],
   "source": [
    "# Check the ditance to the original example\n",
    "distance_function(minimum, get_arr(starting_example), weighting_vector)\n",
    "\n",
    "\n"
   ],
   "metadata": {
    "collapsed": false,
    "pycharm": {
     "name": "#%%\n"
    }
   }
  }
 ],
 "metadata": {
  "kernelspec": {
   "display_name": "Python 3",
   "language": "python",
   "name": "python3"
  },
  "language_info": {
   "codemirror_mode": {
    "name": "ipython",
    "version": 2
   },
   "file_extension": ".py",
   "mimetype": "text/x-python",
   "name": "python",
   "nbconvert_exporter": "python",
   "pygments_lexer": "ipython2",
   "version": "2.7.6"
  }
 },
 "nbformat": 4,
 "nbformat_minor": 0
}