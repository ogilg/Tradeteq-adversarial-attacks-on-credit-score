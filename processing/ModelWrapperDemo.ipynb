{
 "cells": [
  {
   "cell_type": "code",
   "execution_count": 1,
   "metadata": {
    "collapsed": true
   },
   "outputs": [
    {
     "name": "stderr",
     "output_type": "stream",
     "text": [
      "C:\\Users\\oscar\\Anaconda3\\lib\\site-packages\\IPython\\core\\interactiveshell.py:3357: DtypeWarning: Columns (31) have mixed types.Specify dtype option on import or set low_memory=False.\n",
      "  if (await self.run_code(code, result,  async_=asy)):\n"
     ]
    }
   ],
   "source": [
    "from Processing.ModelWrapper import ModelWrapper\n",
    "import pickle\n",
    "import os"
   ]
  },
  {
   "cell_type": "code",
   "execution_count": 3,
   "outputs": [],
   "source": [
    "# might have to change the name of the xg file\n",
    "xg = pickle.load(open(os.path.join(\"..\",\"fitted_models\", \"xg_0.927\"), \"rb\"))"
   ],
   "metadata": {
    "collapsed": false,
    "pycharm": {
     "name": "#%%\n"
    }
   }
  },
  {
   "cell_type": "code",
   "execution_count": 4,
   "outputs": [],
   "source": [
    "# Import data that has already been preprocessed\n",
    "data_dir = os.getcwd()\n",
    "with open(os.path.join(data_dir, r\"train_preproc.p\"), 'rb') as data_file:\n",
    "    train_data = pickle.load(data_file)\n",
    "X_train, y_train = train_data[0], train_data[1]\n",
    "\n",
    "with open(os.path.join(data_dir, r\"test_preproc.p\"), 'rb') as data_file:\n",
    "    test_data = pickle.load(data_file)\n",
    "X_test, y_test = test_data[0], test_data[1]\n",
    "\n",
    "# temporary fix, was missed during preprocessing\n",
    "X_train[\"hasGNotice\"] = X_train[\"hasGNotice\"].map(lambda x: 1 if x else 0)"
   ],
   "metadata": {
    "collapsed": false,
    "pycharm": {
     "name": "#%%\n"
    }
   }
  },
  {
   "cell_type": "code",
   "execution_count": 5,
   "outputs": [],
   "source": [
    "#create the model wrapper\n",
    "wrapped = ModelWrapper(xg)"
   ],
   "metadata": {
    "collapsed": false,
    "pycharm": {
     "name": "#%%\n"
    }
   }
  },
  {
   "cell_type": "code",
   "execution_count": 6,
   "outputs": [],
   "source": [
    "# example: take a datapoint from the dataset\n",
    "dp = X_train.iloc[1]"
   ],
   "metadata": {
    "collapsed": false,
    "pycharm": {
     "name": "#%%\n"
    }
   }
  },
  {
   "cell_type": "code",
   "execution_count": 7,
   "outputs": [],
   "source": [
    "# these are the fields we will derive from the postcode\n",
    "derived_fields = [\"oseast1m\", \"osnrth1m\", \"cty\",\n",
    "                   \"lat\", \"long\", \"ru11ind\", \"oac11\",\n",
    "                  \"country\", \"oac1\", \"oac2\", \"imdu\", \"OtherCompInPcd\"]"
   ],
   "metadata": {
    "collapsed": false,
    "pycharm": {
     "name": "#%%\n"
    }
   }
  },
  {
   "cell_type": "code",
   "execution_count": 8,
   "outputs": [
    {
     "data": {
      "text/plain": "oseast1m           0.136310\nosnrth1m          -0.556634\ncty               18.000000\nlat               51.522835\nlong              -1.137319\nru11ind           19.000000\noac11             43.000000\ncountry            0.000000\noac1               5.000000\noac2              15.000000\nimdu               1.014134\nOtherCompInPcd    -0.847661\nName: 1236111, dtype: float64"
     },
     "execution_count": 8,
     "metadata": {},
     "output_type": "execute_result"
    }
   ],
   "source": [
    "# remove the derived fields from the datapoint to test the model wrapper\n",
    "actual_derived = dp.loc[derived_fields]\n",
    "dp = dp.drop(derived_fields)"
   ],
   "metadata": {
    "collapsed": false,
    "pycharm": {
     "name": "#%%\n"
    }
   }
  },
  {
   "cell_type": "code",
   "execution_count": 10,
   "outputs": [],
   "source": [
    "df = dp.to_frame().T"
   ],
   "metadata": {
    "collapsed": false,
    "pycharm": {
     "name": "#%%\n"
    }
   }
  },
  {
   "cell_type": "code",
   "execution_count": 11,
   "outputs": [
    {
     "name": "stderr",
     "output_type": "stream",
     "text": [
      "C:\\Users\\oscar\\PycharmProjects\\Tradeteq-adversarial-attacks-on-credit-score\\Processing\\ModelWrapper.py:75: SettingWithCopyWarning: \n",
      "A value is trying to be set on a copy of a slice from a DataFrame.\n",
      "Try using .loc[row_indexer,col_indexer] = value instead\n",
      "\n",
      "See the caveats in the documentation: https://pandas.pydata.org/pandas-docs/stable/user_guide/indexing.html#returning-a-view-versus-a-copy\n",
      "  derived[\"country\"] = derived.cty.map(cty_map)\n",
      "C:\\Users\\oscar\\PycharmProjects\\Tradeteq-adversarial-attacks-on-credit-score\\Processing\\ModelWrapper.py:76: SettingWithCopyWarning: \n",
      "A value is trying to be set on a copy of a slice from a DataFrame.\n",
      "Try using .loc[row_indexer,col_indexer] = value instead\n",
      "\n",
      "See the caveats in the documentation: https://pandas.pydata.org/pandas-docs/stable/user_guide/indexing.html#returning-a-view-versus-a-copy\n",
      "  derived[\"oac1\"] = int(derived.oac11.map(lambda x: x[0]))\n",
      "C:\\Users\\oscar\\PycharmProjects\\Tradeteq-adversarial-attacks-on-credit-score\\Processing\\ModelWrapper.py:77: SettingWithCopyWarning: \n",
      "A value is trying to be set on a copy of a slice from a DataFrame.\n",
      "Try using .loc[row_indexer,col_indexer] = value instead\n",
      "\n",
      "See the caveats in the documentation: https://pandas.pydata.org/pandas-docs/stable/user_guide/indexing.html#returning-a-view-versus-a-copy\n",
      "  derived[\"oac2\"] = derived.oac11.map(lambda x: x[0:2])\n",
      "C:\\Users\\oscar\\PycharmProjects\\Tradeteq-adversarial-attacks-on-credit-score\\Processing\\ModelWrapper.py:78: SettingWithCopyWarning: \n",
      "A value is trying to be set on a copy of a slice from a DataFrame.\n",
      "Try using .loc[row_indexer,col_indexer] = value instead\n",
      "\n",
      "See the caveats in the documentation: https://pandas.pydata.org/pandas-docs/stable/user_guide/indexing.html#returning-a-view-versus-a-copy\n",
      "  derived[\"OtherCompInPcd\"] = pcdDict[pcd]\n"
     ]
    },
    {
     "name": "stdout",
     "output_type": "stream",
     "text": [
      "      pcd  oseast1m  osnrth1m  cty  ru11ind  oac11        lat      long  \\\n",
      "0  207325   0.13631 -0.556634   18       19     43  51.522835 -1.137319   \n",
      "\n",
      "   country  oac1  oac2  OtherCompInPcd      imdu  \n",
      "0        0     5    15       -0.847661  1.014134  \n"
     ]
    },
    {
     "data": {
      "text/plain": "array([0])"
     },
     "execution_count": 11,
     "metadata": {},
     "output_type": "execute_result"
    }
   ],
   "source": [
    "# call predict on imcomplete data\n",
    "# internally the data is completed and the model is called\n",
    "wrapped.predict(df)\n",
    "\n",
    "\n"
   ],
   "metadata": {
    "collapsed": false,
    "pycharm": {
     "name": "#%%\n"
    }
   }
  }
 ],
 "metadata": {
  "kernelspec": {
   "name": "python3",
   "language": "python",
   "display_name": "Python 3"
  },
  "language_info": {
   "codemirror_mode": {
    "name": "ipython",
    "version": 2
   },
   "file_extension": ".py",
   "mimetype": "text/x-python",
   "name": "python",
   "nbconvert_exporter": "python",
   "pygments_lexer": "ipython2",
   "version": "2.7.6"
  }
 },
 "nbformat": 4,
 "nbformat_minor": 0
}