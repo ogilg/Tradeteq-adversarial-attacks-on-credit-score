{
 "cells": [
  {
   "cell_type": "code",
   "execution_count": null,
   "outputs": [],
   "source": [
    "\"\"\" Stores lists of columns by types: cat, num and bool\"\"\""
   ],
   "metadata": {
    "collapsed": false,
    "pycharm": {
     "name": "#%%\n"
    }
   }
  },
  {
   "cell_type": "code",
   "execution_count": 2,
   "metadata": {
    "collapsed": true
   },
   "outputs": [],
   "source": [
    "import os\n",
    "import pandas as pd\n",
    "from pandas.api.types import is_numeric_dtype\n",
    "import numpy as np\n",
    "import pickle"
   ]
  },
  {
   "cell_type": "code",
   "execution_count": 18,
   "outputs": [],
   "source": [
    "def extract_feature_types(df):\n",
    "    cat_features = []\n",
    "    numeric_features = []\n",
    "    boolean_features = []\n",
    "\n",
    "    for col in df.columns:\n",
    "        if not is_numeric_dtype(df[col]):\n",
    "            cat_features.append(col)\n",
    "        else:\n",
    "            if df[col].dtype == np.int32 and df[col].max() == 1 and df[col].min() == 0.:\n",
    "                boolean_features.append(col)\n",
    "            else:\n",
    "                numeric_features.append(col)\n",
    "    return cat_features, numeric_features, boolean_features"
   ],
   "metadata": {
    "collapsed": false,
    "pycharm": {
     "name": "#%%\n"
    }
   }
  },
  {
   "cell_type": "code",
   "execution_count": 15,
   "outputs": [],
   "source": [
    "data_dir = os.path.dirname(os.getcwd())\n",
    "co_file = os.path.join(data_dir, \"Co_600K_Jul2019_6M.pkl\")\n",
    "data = pd.read_pickle(co_file)"
   ],
   "metadata": {
    "collapsed": false,
    "pycharm": {
     "name": "#%%\n"
    }
   }
  },
  {
   "cell_type": "code",
   "execution_count": 16,
   "outputs": [],
   "source": [
    "cat, num, bool = extract_feature_types(data)"
   ],
   "metadata": {
    "collapsed": false,
    "pycharm": {
     "name": "#%%\n"
    }
   }
  },
  {
   "cell_type": "code",
   "execution_count": 17,
   "outputs": [
    {
     "data": {
      "text/plain": "['eCompanyCategory',\n 'hasF1014',\n 'hasF1129',\n 'hasF1522',\n 'hasF1631',\n 'hasF17',\n 'hasF1865',\n 'hasF1871',\n 'hasF1885',\n 'hasF1977',\n 'hasF2298',\n 'hasF2304',\n 'hasF2316',\n 'hasF2447',\n 'hasF2483',\n 'hasF2497',\n 'hasF2502',\n 'hasF2506',\n 'hasF2616',\n 'hasF2619',\n 'hasF2705',\n 'hasF2815',\n 'hasF282',\n 'hasF306',\n 'hasF448',\n 'hasF465',\n 'hasF474',\n 'hasF487',\n 'hasF489',\n 'hasF541',\n 'hasF69',\n 'hasF70',\n 'isfailed',\n 'namechanged',\n 'namechanged2']"
     },
     "execution_count": 17,
     "metadata": {},
     "output_type": "execute_result"
    }
   ],
   "source": [
    "bool"
   ],
   "metadata": {
    "collapsed": false,
    "pycharm": {
     "name": "#%%\n"
    }
   }
  },
  {
   "cell_type": "code",
   "execution_count": 19,
   "outputs": [],
   "source": [
    "with open(r\"feature_types.p\", \"wb\") as file:\n",
    "    pickle.dump([cat, num, bool], file)"
   ],
   "metadata": {
    "collapsed": false,
    "pycharm": {
     "name": "#%%\n"
    }
   }
  },
  {
   "cell_type": "code",
   "execution_count": null,
   "outputs": [],
   "source": [],
   "metadata": {
    "collapsed": false,
    "pycharm": {
     "name": "#%%\n"
    }
   }
  }
 ],
 "metadata": {
  "kernelspec": {
   "display_name": "Python 3",
   "language": "python",
   "name": "python3"
  },
  "language_info": {
   "codemirror_mode": {
    "name": "ipython",
    "version": 2
   },
   "file_extension": ".py",
   "mimetype": "text/x-python",
   "name": "python",
   "nbconvert_exporter": "python",
   "pygments_lexer": "ipython2",
   "version": "2.7.6"
  }
 },
 "nbformat": 4,
 "nbformat_minor": 0
}