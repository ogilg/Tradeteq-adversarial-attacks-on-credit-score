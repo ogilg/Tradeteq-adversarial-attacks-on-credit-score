{
 "cells": [
  {
   "cell_type": "code",
   "execution_count": 1,
   "metadata": {},
   "outputs": [],
   "source": [
    "# different imports\n",
    "import pandas as pd\n",
    "import numpy as np\n",
    "import os"
   ]
  },
  {
   "cell_type": "code",
   "execution_count": 2,
   "metadata": {},
   "outputs": [],
   "source": [
    "# Read the sample file\n",
    "co_file = os.path.join(\"client_start_folder\",\"Co_600K_Jul2019_6M.pkl\")\n",
    "post_file = os.path.join(\"client_start_folder\", \"ONS\", \"data\", \"NSPL_AUG_2019_UK.pkl\")\n",
    "ds = pd.read_pickle(co_file)\n",
    "ps = pd.read_pickle(post_file)"
   ]
  },
  {
   "cell_type": "code",
   "execution_count": 3,
   "metadata": {},
   "outputs": [
    {
     "data": {
      "text/plain": [
       "(600000, 131)"
      ]
     },
     "execution_count": 3,
     "metadata": {},
     "output_type": "execute_result"
    }
   ],
   "source": [
    "ds.shape"
   ]
  },
  {
   "cell_type": "code",
   "execution_count": 4,
   "metadata": {},
   "outputs": [
    {
     "data": {
      "text/plain": [
       "(2622934, 14)"
      ]
     },
     "execution_count": 4,
     "metadata": {},
     "output_type": "execute_result"
    }
   ],
   "source": [
    "ps.shape"
   ]
  },
  {
   "cell_type": "code",
   "execution_count": 5,
   "metadata": {},
   "outputs": [],
   "source": [
    "from processing.DataProcessor import DataProcessor\n",
    "data_proc = DataProcessor(co_file)\n",
    "\n",
    "# find all columns that are complete i.e. have all fields filled in \n",
    "null_column_list = []\n",
    "\n",
    "for c in ds.columns:\n",
    "    if ds[c].isnull().sum() != 0:\n",
    "        null_column_list.append(c)\n",
    "\n",
    "\n",
    "zero_info_features = [\"CompanyId\", \"CompanyNumber\"]\n",
    "only_one_value_features = [\"Filled\", \"LimitedPartnershipsNumGenPartners\", \"LimitedPartnershipsNumLimPartners\",\\\n",
    "                          \"Status20190701\"]\n",
    "complicated_features = [\"RegAddressAddressLine1\", \"RegAddressAddressLine2\", \"RegAddressCareOf\", \"RegAddressCounty\", \\\n",
    "                        \"RegAddressPOBox\", \"RegAddressPostCode\", \"RegAddressPostTown\", \"pcd\", \"oa11\", \"PreviousName_1CompanyName\"]\n",
    "\n",
    "to_remove_cols = list(set(zero_info_features+only_one_value_features+complicated_features+null_column_list))\n",
    "#using set and the list to remove duplicates\n",
    "\n",
    "\n"
   ]
  },
  {
   "cell_type": "code",
   "execution_count": 6,
   "metadata": {},
   "outputs": [],
   "source": [
    "#removing columsn we don't want to use\n",
    "data_proc.remove_columns(to_remove_cols)"
   ]
  },
  {
   "cell_type": "code",
   "execution_count": 7,
   "metadata": {},
   "outputs": [],
   "source": [
    "# changing columns to numerical/string type \n",
    "# before: to_num_cols = [\"AccountsAccountRefDay\", \"AccountsAccountRefMonth\", \"oac1\"]\n",
    "to_num_cols = [\"oac1\"]\n",
    "# before: to_str_cols = [\"ru11ind\"]\n",
    "to_str_cols = []\n",
    "\n",
    "X_train, X_test, y_train, y_test = data_proc.preprocess_data(to_num_cols, to_str_cols)\n",
    "#the splitting of data etc is all done implicitly by data_proc.preprocess_data!!"
   ]
  },
  {
   "cell_type": "code",
   "execution_count": 8,
   "metadata": {},
   "outputs": [],
   "source": [
    "#Training the Algorithm\n",
    "from sklearn.linear_model import LogisticRegression\n",
    "classifier = LogisticRegression(max_iter=1000, C=1e5) # parameters to be adjusted to make most optimal "
   ]
  },
  {
   "cell_type": "markdown",
   "metadata": {},
   "source": [
    "SKEvaluator should work with Linear Regression since RF class has implicit functions fit, predict, predict_proba which are used inside SKEvaluator"
   ]
  },
  {
   "cell_type": "code",
   "execution_count": 9,
   "metadata": {},
   "outputs": [],
   "source": [
    "from ModelEvaluationTools.SKEvaluator import SKEvaluator\n",
    "lr_model = SKEvaluator(classifier, \"lr\")"
   ]
  },
  {
   "cell_type": "code",
   "execution_count": 10,
   "metadata": {},
   "outputs": [],
   "source": [
    "lr_model.fit(X_train, y_train)"
   ]
  },
  {
   "cell_type": "code",
   "execution_count": 11,
   "metadata": {},
   "outputs": [
    {
     "name": "stdout",
     "output_type": "stream",
     "text": [
      "Accuracy - Test: 0.9981833333333333\n",
      "AUC - Test: 0.5882633649907423\n"
     ]
    }
   ],
   "source": [
    "test_auc = lr_model.evaluate(X_test, y_test)"
   ]
  },
  {
   "cell_type": "code",
   "execution_count": 12,
   "metadata": {},
   "outputs": [],
   "source": [
    "# saves model to fitted_models folder\n",
    "lr_model.save_model()"
   ]
  },
  {
   "cell_type": "code",
   "execution_count": null,
   "metadata": {},
   "outputs": [],
   "source": []
  }
 ],
 "metadata": {
  "kernelspec": {
   "display_name": "Python 3",
   "language": "python",
   "name": "python3"
  },
  "language_info": {
   "codemirror_mode": {
    "name": "ipython",
    "version": 3
   },
   "file_extension": ".py",
   "mimetype": "text/x-python",
   "name": "python",
   "nbconvert_exporter": "python",
   "pygments_lexer": "ipython3",
   "version": "3.8.5"
  }
 },
 "nbformat": 4,
 "nbformat_minor": 4
}
