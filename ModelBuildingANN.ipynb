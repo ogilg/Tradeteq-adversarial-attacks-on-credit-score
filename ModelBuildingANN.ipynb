{
 "cells": [
  {
   "cell_type": "code",
   "execution_count": 1,
   "metadata": {},
   "outputs": [],
   "source": [
    "import os\n",
    "import pickle\n",
    "import numpy as np\n",
    "import pandas"
   ]
  },
  {
   "cell_type": "code",
   "execution_count": 2,
   "metadata": {},
   "outputs": [],
   "source": [
    "from keras.models import Sequential\n",
    "from keras.layers import Dense,Dropout,Flatten,BatchNormalization\n",
    "import keras\n",
    "import tensorflow as tf\n",
    "from keras import optimizers"
   ]
  },
  {
   "cell_type": "code",
   "execution_count": 3,
   "metadata": {},
   "outputs": [],
   "source": [
    "# Import data that has already been preprocessed\n",
    "data_dir = os.getcwd()\n",
    "with open(os.path.join(data_dir, \"Processing\", r\"train_preproc.p\"), 'rb') as data_file:\n",
    "    train_data = pickle.load(data_file)\n",
    "X_train, y_train = train_data[0], train_data[1]\n",
    "\n",
    "with open(os.path.join(data_dir, \"Processing\", r\"test_preproc.p\"), 'rb') as data_file:\n",
    "    test_data = pickle.load(data_file)\n",
    "X_test, y_test = test_data[0], test_data[1]"
   ]
  },
  {
   "cell_type": "code",
   "execution_count": 4,
   "metadata": {},
   "outputs": [
    {
     "name": "stdout",
     "output_type": "stream",
     "text": [
      "Building Neural Network model...\n"
     ]
    }
   ],
   "source": [
    "# define the keras model\n",
    "print('Building Neural Network model...')\n",
    "opt = optimizers.Adam(lr = 0.0001) # hyper parameter\n",
    "model = Sequential()\n",
    "model.add(BatchNormalization())\n",
    "# Try some weight initialization, with different weight\n",
    "model.add(Dense(10, input_dim=X_train.shape[1],\n",
    "                kernel_initializer='normal',\n",
    "                #kernel_regularizer=regularizers.l2(0.02),\n",
    "                activation=\"relu\"))\n",
    "model.add(Dense(4,activation = \"relu\"))\n",
    "#model.add(Dense(10,\n",
    "                #kernel_regularizer=regularizers.l2(0.02),\n",
    "#                activation=\"relu\"))\n",
    "#model.add(Dense(10,activation = \"relu\"))\n",
    "model.add(Dense(1,activation=\"sigmoid\"))"
   ]
  },
  {
   "cell_type": "code",
   "execution_count": 5,
   "metadata": {},
   "outputs": [],
   "source": [
    "METRICS = [\n",
    "     tf.keras.metrics.AUC()\n",
    "]"
   ]
  },
  {
   "cell_type": "code",
   "execution_count": 6,
   "metadata": {},
   "outputs": [],
   "source": [
    "# compile the keras model\n",
    "model.compile(loss='binary_crossentropy', optimizer=opt, metrics=METRICS)"
   ]
  },
  {
   "cell_type": "code",
   "execution_count": 7,
   "metadata": {
    "scrolled": true
   },
   "outputs": [
    {
     "name": "stdout",
     "output_type": "stream",
     "text": [
      "Epoch 1/5\n",
      "2400/2400 [==============================] - 21s 8ms/step - loss: 0.6339 - auc: 0.5424 - val_loss: 0.0913 - val_auc: 0.7132\n",
      "Epoch 2/5\n",
      "2400/2400 [==============================] - 14s 6ms/step - loss: 0.0311 - auc: 0.7595 - val_loss: 0.0211 - val_auc: 0.7510\n",
      "Epoch 3/5\n",
      "2400/2400 [==============================] - 14s 6ms/step - loss: 0.0138 - auc: 0.7331 - val_loss: 0.0170 - val_auc: 0.7888\n",
      "Epoch 4/5\n",
      "2400/2400 [==============================] - 15s 6ms/step - loss: 0.0126 - auc: 0.7585 - val_loss: 0.0160 - val_auc: 0.8118\n",
      "Epoch 5/5\n",
      "2400/2400 [==============================] - 14s 6ms/step - loss: 0.0121 - auc: 0.7640 - val_loss: 0.0155 - val_auc: 0.8280\n",
      "[[0.00181004]\n",
      " [0.00674465]\n",
      " [0.00867966]\n",
      " ...\n",
      " [0.00272891]\n",
      " [0.00340474]\n",
      " [0.00236249]]\n",
      "[0.00181004 0.00674465 0.00867966 ... 0.00272891 0.00340474 0.00236249]\n",
      "Accuracy - Test: 0.998\n",
      "AUC - Test: 0.8259287264569017\n"
     ]
    },
    {
     "data": {
      "text/plain": [
       "0.8259287264569017"
      ]
     },
     "execution_count": 7,
     "metadata": {},
     "output_type": "execute_result"
    }
   ],
   "source": [
    "from ModelEvaluationTools.KerasEvaluator import KerasEvaluator\n",
    "\n",
    "model_eval = KerasEvaluator(model, \"ann\")\n",
    "\n",
    "X_test = np.asarray(X_test).astype('float32')\n",
    "X_train = np.asarray(X_train).astype('float32')\n",
    "\n",
    "model_eval.fit(X_train, y_train, epochs=5, validation_data = (X_test, y_test),\n",
    "               batch_size=200,shuffle = True)\n",
    "\n",
    "model_eval.evaluate(X_test, y_test)"
   ]
  },
  {
   "cell_type": "code",
   "execution_count": 16,
   "metadata": {},
   "outputs": [
    {
     "name": "stdout",
     "output_type": "stream",
     "text": [
      "INFO:tensorflow:Assets written to: fitted_models/ann_0.884/assets\n"
     ]
    }
   ],
   "source": [
    "model_eval.save_model()"
   ]
  },
  {
   "cell_type": "code",
   "execution_count": null,
   "metadata": {},
   "outputs": [],
   "source": []
  }
 ],
 "metadata": {
  "kernelspec": {
   "display_name": "Python 3",
   "language": "python",
   "name": "python3"
  },
  "language_info": {
   "codemirror_mode": {
    "name": "ipython",
    "version": 3
   },
   "file_extension": ".py",
   "mimetype": "text/x-python",
   "name": "python",
   "nbconvert_exporter": "python",
   "pygments_lexer": "ipython3",
   "version": "3.8.5"
  }
 },
 "nbformat": 4,
 "nbformat_minor": 4
}
